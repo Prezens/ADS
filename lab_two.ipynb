{
 "cells": [
  {
   "cell_type": "code",
   "execution_count": 3,
   "metadata": {},
   "outputs": [
    {
     "name": "stdout",
     "output_type": "stream",
     "text": [
      "Введите a границу отрезка: 0\n",
      "Введите b границу отрезка: 10\n",
      "Введите e заданную точность: 0.0001\n",
      "Корень уравнения: 1.5000152587890625\n"
     ]
    },
    {
     "data": {
      "image/png": "[encoded data removed]",
      "text/plain": [
       "<Figure size 432x288 with 1 Axes>"
      ]
     },
     "metadata": {},
     "output_type": "display_data"
    }
   ],
   "source": [
    "%matplotlib inline\n",
    "import matplotlib.pyplot as plt\n",
    "import numpy as np\n",
    "from scipy.optimize import fsolve\n",
    "\n",
    "function = lambda x: 8 * x ** 3 - 36 * x ** 2 + 54 * x - 27\n",
    "\n",
    "a1 = float(input('Введите a границу отрезка: '))\n",
    "b1 = float(input('Введите b границу отрезка: '))\n",
    "e = float(input('Введите e заданную точность: '))\n",
    "dot = None\n",
    "\n",
    "\n",
    "def bisection_method(a, b, f):\n",
    "    x = (a + b) / 2\n",
    "\n",
    "    while np.abs(a - b) >= e:\n",
    "        x = (a + b) / 2\n",
    "        if f(a) * f(x) > 0:\n",
    "            a = x\n",
    "        elif f(a) * f(x) < 0:\n",
    "            b = x\n",
    "\n",
    "    global dot\n",
    "    dot = (f(x), x)\n",
    "\n",
    "    return x\n",
    "\n",
    "\n",
    "X = np.arange(-15.0, 20.0, 1)\n",
    "section = np.linspace(a1, b1)\n",
    "\n",
    "solve = bisection_method(a1, b1, function)\n",
    "\n",
    "# solves = fsolve(function, np.arange(a1, b1))\n",
    "# print('Корни уравнения найденные с помощью библиотеки scipy:', solves)\n",
    "\n",
    "if np.round(function(solve), 3) == 0:\n",
    "    print('Корень уравнения: %s' % solve)\n",
    "else:\n",
    "    print('Корень уравнения на данном отрезке не найден')\n",
    "\n",
    "plt.plot([x for x in X], [function(x) for x in X])\n",
    "plt.plot(dot[1], dot[0], color='green', marker='o', linestyle='dashed', markersize=12)\n",
    "plt.plot(section, function(section))\n",
    "plt.grid(True)\n",
    "\n",
    "plt.show()\n"
   ]
  },
  {
   "cell_type": "code",
   "execution_count": null,
   "metadata": {},
   "outputs": [],
   "source": []
  }
 ],
 "metadata": {
  "kernelspec": {
   "display_name": "Python 3",
   "language": "python",
   "name": "python3"
  },
  "language_info": {
   "codemirror_mode": {
    "name": "ipython",
    "version": 3
   },
   "file_extension": ".py",
   "mimetype": "text/x-python",
   "name": "python",
   "nbconvert_exporter": "python",
   "pygments_lexer": "ipython3",
   "version": "3.6.4"
  }
 },
 "nbformat": 4,
 "nbformat_minor": 2
}
